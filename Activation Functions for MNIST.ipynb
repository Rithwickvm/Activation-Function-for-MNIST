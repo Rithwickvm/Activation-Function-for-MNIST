{
  "cells": [
    {
      "cell_type": "markdown",
      "source": [
        "Importing Necessary Libraries"
      ],
      "metadata": {
        "id": "SkmJ6L4_47Mr"
      }
    },
    {
      "cell_type": "code",
      "execution_count": 103,
      "metadata": {
        "id": "WWw1YtlXK9Ua"
      },
      "outputs": [],
      "source": [
        "import tensorflow as tf\n",
        "import numpy as np\n",
        "from matplotlib import pyplot as plt\n",
        "from tensorflow.keras.models import Sequential\n",
        "from tensorflow.keras.layers import Dense, Dropout\n",
        "from tensorflow.keras import regularizers, optimizers"
      ]
    },
    {
      "cell_type": "markdown",
      "source": [
        "Load MNIST Dataset"
      ],
      "metadata": {
        "id": "WcQkAhlLMZSS"
      }
    },
    {
      "cell_type": "code",
      "execution_count": 104,
      "metadata": {
        "id": "JwEyqf40MFwE"
      },
      "outputs": [],
      "source": [
        "from tensorflow.keras.datasets import mnist"
      ]
    },
    {
      "cell_type": "code",
      "execution_count": 105,
      "metadata": {
        "id": "j-B_iZaLMchy"
      },
      "outputs": [],
      "source": [
        "(X_train,y_train),(X_test,y_test) = mnist.load_data()"
      ]
    },
    {
      "cell_type": "code",
      "execution_count": 106,
      "metadata": {
        "colab": {
          "base_uri": "https://localhost:8080/"
        },
        "id": "olRSCHx4M1jz",
        "outputId": "b9c71843-505e-4a74-b09a-202ecb86be9f"
      },
      "outputs": [
        {
          "output_type": "execute_result",
          "data": {
            "text/plain": [
              "((60000, 28, 28), (10000, 28, 28))"
            ]
          },
          "metadata": {},
          "execution_count": 106
        }
      ],
      "source": [
        "X_train.shape,X_test.shape # There are 60000 images of size 28*28"
      ]
    },
    {
      "cell_type": "code",
      "execution_count": 107,
      "metadata": {
        "colab": {
          "base_uri": "https://localhost:8080/"
        },
        "id": "c5ZAwLJkM8pa",
        "outputId": "34b0c7d9-0f11-4b38-bf4f-97f97332df80"
      },
      "outputs": [
        {
          "output_type": "execute_result",
          "data": {
            "text/plain": [
              "((60000,), (10000,))"
            ]
          },
          "metadata": {},
          "execution_count": 107
        }
      ],
      "source": [
        "y_train.shape,y_test.shape"
      ]
    },
    {
      "cell_type": "code",
      "execution_count": 108,
      "metadata": {
        "colab": {
          "base_uri": "https://localhost:8080/"
        },
        "id": "Fn5lVa4fNUWa",
        "outputId": "4ed788fc-4372-4857-858e-1e6775c52495"
      },
      "outputs": [
        {
          "output_type": "execute_result",
          "data": {
            "text/plain": [
              "array([[  0,   0,   0,   0,   0,   0,   0,   0,   0,   0,   0,   0,   0,\n",
              "          0,   0,   0,   0,   0,   0,   0,   0,   0,   0,   0,   0,   0,\n",
              "          0,   0],\n",
              "       [  0,   0,   0,   0,   0,   0,   0,   0,   0,   0,   0,   0,   0,\n",
              "          0,   0,   0,   0,   0,   0,   0,   0,   0,   0,   0,   0,   0,\n",
              "          0,   0],\n",
              "       [  0,   0,   0,   0,   0,   0,   0,   0,   0,   0,   0,   0,   0,\n",
              "          0,   0,   0,   0,   0,   0,   0,   0,   0,   0,   0,   0,   0,\n",
              "          0,   0],\n",
              "       [  0,   0,   0,   0,   0,   0,   0,   0,   0,   0,   0,   0,   0,\n",
              "          0,   0,   0,   0,   0,   0,   0,   0,   0,   0,   0,   0,   0,\n",
              "          0,   0],\n",
              "       [  0,   0,   0,   0,   0,   0,   0,   0,   0,   0,   0,   0,   0,\n",
              "          0,   0,   0,   0,   0,   0,   0,   0,   0,   0,   0,   0,   0,\n",
              "          0,   0],\n",
              "       [  0,   0,   0,   0,   0,   0,   0,   0,   0,   0,   0,   0,   3,\n",
              "         18,  18,  18, 126, 136, 175,  26, 166, 255, 247, 127,   0,   0,\n",
              "          0,   0],\n",
              "       [  0,   0,   0,   0,   0,   0,   0,   0,  30,  36,  94, 154, 170,\n",
              "        253, 253, 253, 253, 253, 225, 172, 253, 242, 195,  64,   0,   0,\n",
              "          0,   0],\n",
              "       [  0,   0,   0,   0,   0,   0,   0,  49, 238, 253, 253, 253, 253,\n",
              "        253, 253, 253, 253, 251,  93,  82,  82,  56,  39,   0,   0,   0,\n",
              "          0,   0],\n",
              "       [  0,   0,   0,   0,   0,   0,   0,  18, 219, 253, 253, 253, 253,\n",
              "        253, 198, 182, 247, 241,   0,   0,   0,   0,   0,   0,   0,   0,\n",
              "          0,   0],\n",
              "       [  0,   0,   0,   0,   0,   0,   0,   0,  80, 156, 107, 253, 253,\n",
              "        205,  11,   0,  43, 154,   0,   0,   0,   0,   0,   0,   0,   0,\n",
              "          0,   0],\n",
              "       [  0,   0,   0,   0,   0,   0,   0,   0,   0,  14,   1, 154, 253,\n",
              "         90,   0,   0,   0,   0,   0,   0,   0,   0,   0,   0,   0,   0,\n",
              "          0,   0],\n",
              "       [  0,   0,   0,   0,   0,   0,   0,   0,   0,   0,   0, 139, 253,\n",
              "        190,   2,   0,   0,   0,   0,   0,   0,   0,   0,   0,   0,   0,\n",
              "          0,   0],\n",
              "       [  0,   0,   0,   0,   0,   0,   0,   0,   0,   0,   0,  11, 190,\n",
              "        253,  70,   0,   0,   0,   0,   0,   0,   0,   0,   0,   0,   0,\n",
              "          0,   0],\n",
              "       [  0,   0,   0,   0,   0,   0,   0,   0,   0,   0,   0,   0,  35,\n",
              "        241, 225, 160, 108,   1,   0,   0,   0,   0,   0,   0,   0,   0,\n",
              "          0,   0],\n",
              "       [  0,   0,   0,   0,   0,   0,   0,   0,   0,   0,   0,   0,   0,\n",
              "         81, 240, 253, 253, 119,  25,   0,   0,   0,   0,   0,   0,   0,\n",
              "          0,   0],\n",
              "       [  0,   0,   0,   0,   0,   0,   0,   0,   0,   0,   0,   0,   0,\n",
              "          0,  45, 186, 253, 253, 150,  27,   0,   0,   0,   0,   0,   0,\n",
              "          0,   0],\n",
              "       [  0,   0,   0,   0,   0,   0,   0,   0,   0,   0,   0,   0,   0,\n",
              "          0,   0,  16,  93, 252, 253, 187,   0,   0,   0,   0,   0,   0,\n",
              "          0,   0],\n",
              "       [  0,   0,   0,   0,   0,   0,   0,   0,   0,   0,   0,   0,   0,\n",
              "          0,   0,   0,   0, 249, 253, 249,  64,   0,   0,   0,   0,   0,\n",
              "          0,   0],\n",
              "       [  0,   0,   0,   0,   0,   0,   0,   0,   0,   0,   0,   0,   0,\n",
              "          0,  46, 130, 183, 253, 253, 207,   2,   0,   0,   0,   0,   0,\n",
              "          0,   0],\n",
              "       [  0,   0,   0,   0,   0,   0,   0,   0,   0,   0,   0,   0,  39,\n",
              "        148, 229, 253, 253, 253, 250, 182,   0,   0,   0,   0,   0,   0,\n",
              "          0,   0],\n",
              "       [  0,   0,   0,   0,   0,   0,   0,   0,   0,   0,  24, 114, 221,\n",
              "        253, 253, 253, 253, 201,  78,   0,   0,   0,   0,   0,   0,   0,\n",
              "          0,   0],\n",
              "       [  0,   0,   0,   0,   0,   0,   0,   0,  23,  66, 213, 253, 253,\n",
              "        253, 253, 198,  81,   2,   0,   0,   0,   0,   0,   0,   0,   0,\n",
              "          0,   0],\n",
              "       [  0,   0,   0,   0,   0,   0,  18, 171, 219, 253, 253, 253, 253,\n",
              "        195,  80,   9,   0,   0,   0,   0,   0,   0,   0,   0,   0,   0,\n",
              "          0,   0],\n",
              "       [  0,   0,   0,   0,  55, 172, 226, 253, 253, 253, 253, 244, 133,\n",
              "         11,   0,   0,   0,   0,   0,   0,   0,   0,   0,   0,   0,   0,\n",
              "          0,   0],\n",
              "       [  0,   0,   0,   0, 136, 253, 253, 253, 212, 135, 132,  16,   0,\n",
              "          0,   0,   0,   0,   0,   0,   0,   0,   0,   0,   0,   0,   0,\n",
              "          0,   0],\n",
              "       [  0,   0,   0,   0,   0,   0,   0,   0,   0,   0,   0,   0,   0,\n",
              "          0,   0,   0,   0,   0,   0,   0,   0,   0,   0,   0,   0,   0,\n",
              "          0,   0],\n",
              "       [  0,   0,   0,   0,   0,   0,   0,   0,   0,   0,   0,   0,   0,\n",
              "          0,   0,   0,   0,   0,   0,   0,   0,   0,   0,   0,   0,   0,\n",
              "          0,   0],\n",
              "       [  0,   0,   0,   0,   0,   0,   0,   0,   0,   0,   0,   0,   0,\n",
              "          0,   0,   0,   0,   0,   0,   0,   0,   0,   0,   0,   0,   0,\n",
              "          0,   0]], dtype=uint8)"
            ]
          },
          "metadata": {},
          "execution_count": 108
        }
      ],
      "source": [
        "X_train[0]"
      ]
    },
    {
      "cell_type": "code",
      "execution_count": 109,
      "metadata": {
        "colab": {
          "base_uri": "https://localhost:8080/",
          "height": 282
        },
        "id": "pxNrIUknNqqe",
        "outputId": "ba364eaa-2145-4810-92fb-83cf3b052e4b"
      },
      "outputs": [
        {
          "output_type": "execute_result",
          "data": {
            "text/plain": [
              "<matplotlib.image.AxesImage at 0x7f3f95ff6f50>"
            ]
          },
          "metadata": {},
          "execution_count": 109
        },
        {
          "output_type": "display_data",
          "data": {
            "text/plain": [
              "<Figure size 432x288 with 1 Axes>"
            ],
            "image/png": "[encoded data removed]"
          },
          "metadata": {
            "needs_background": "light"
          }
        }
      ],
      "source": [
        "plt.imshow(X_train[0,:,:])"
      ]
    },
    {
      "cell_type": "code",
      "execution_count": 110,
      "metadata": {
        "colab": {
          "base_uri": "https://localhost:8080/",
          "height": 127
        },
        "id": "DqMxFe64YR6z",
        "outputId": "c4ab3530-b413-421c-a7e3-eb2908e56e56"
      },
      "outputs": [
        {
          "output_type": "display_data",
          "data": {
            "text/plain": [
              "<Figure size 576x576 with 5 Axes>"
            ],
            "image/png": "[encoded data removed]"
          },
          "metadata": {
            "needs_background": "light"
          }
        }
      ],
      "source": [
        "fig, axes = plt.subplots(ncols=5, sharex=False, \n",
        "    sharey=True, figsize=(8, 8))\n",
        "for i in range(5):\n",
        "    axes[i].imshow(X_train[i], cmap='gray')\n",
        "plt.show()"
      ]
    },
    {
      "cell_type": "code",
      "execution_count": 111,
      "metadata": {
        "colab": {
          "base_uri": "https://localhost:8080/"
        },
        "id": "TbGI5f3EOCI0",
        "outputId": "af6afac3-1cfb-4210-cd20-0ac1aca5a524"
      },
      "outputs": [
        {
          "output_type": "execute_result",
          "data": {
            "text/plain": [
              "5"
            ]
          },
          "metadata": {},
          "execution_count": 111
        }
      ],
      "source": [
        "y_train[0] #The output label for the image shown above"
      ]
    },
    {
      "cell_type": "markdown",
      "source": [
        "reshaping images for one dimensional"
      ],
      "metadata": {
        "id": "wRHQBp8n5SEU"
      }
    },
    {
      "cell_type": "code",
      "execution_count": 112,
      "metadata": {
        "id": "ezVbroFtPXGm"
      },
      "outputs": [],
      "source": [
        "x_train = X_train.reshape(60000,28*28)\n",
        "x_test = X_test.reshape(10000,28*28)"
      ]
    },
    {
      "cell_type": "code",
      "execution_count": 113,
      "metadata": {
        "colab": {
          "base_uri": "https://localhost:8080/"
        },
        "id": "CxLuHeVxTmx-",
        "outputId": "c1989a3e-f25c-4cdf-88aa-6fcc6011a7db"
      },
      "outputs": [
        {
          "output_type": "execute_result",
          "data": {
            "text/plain": [
              "((60000, 784), (10000, 784))"
            ]
          },
          "metadata": {},
          "execution_count": 113
        }
      ],
      "source": [
        "x_train.shape,x_test.shape"
      ]
    },
    {
      "cell_type": "markdown",
      "source": [
        "scaling the images"
      ],
      "metadata": {
        "id": "i5De7zil5lgZ"
      }
    },
    {
      "cell_type": "code",
      "execution_count": 114,
      "metadata": {
        "id": "u-ObycIoTfFa"
      },
      "outputs": [],
      "source": [
        "x_train = x_train/255.\n",
        "x_test = x_test/255."
      ]
    },
    {
      "cell_type": "markdown",
      "source": [
        "Encoding the target levels"
      ],
      "metadata": {
        "id": "M2ub85Lb57zw"
      }
    },
    {
      "cell_type": "code",
      "execution_count": 115,
      "metadata": {
        "id": "lLUdUC4ZVIMH"
      },
      "outputs": [],
      "source": [
        "y_train = tf.keras.utils.to_categorical(y_train,num_classes=10)\n",
        "y_test = tf.keras.utils.to_categorical(y_test,num_classes =10)"
      ]
    },
    {
      "cell_type": "code",
      "execution_count": 116,
      "metadata": {
        "colab": {
          "base_uri": "https://localhost:8080/"
        },
        "id": "9fzZ65qkZOfm",
        "outputId": "036ca3fc-dbd3-48d5-864e-97300ce9ec83"
      },
      "outputs": [
        {
          "output_type": "execute_result",
          "data": {
            "text/plain": [
              "array([0., 0., 0., 0., 0., 1., 0., 0., 0., 0.], dtype=float32)"
            ]
          },
          "metadata": {},
          "execution_count": 116
        }
      ],
      "source": [
        "y_train[0]"
      ]
    },
    {
      "cell_type": "markdown",
      "source": [
        "Building the model with Relu Activation Function with  hidden Layer"
      ],
      "metadata": {
        "id": "ceFb9d2Z6F5e"
      }
    },
    {
      "cell_type": "code",
      "execution_count": 117,
      "metadata": {
        "id": "1YHFRzmEZmlu"
      },
      "outputs": [],
      "source": [
        "model = Sequential()\n",
        "model.add(Dense(units= 256,activation='relu',input_dim = 784 ))\n",
        "model.add(Dense(units = 10,activation='softmax' ))\n"
      ]
    },
    {
      "cell_type": "code",
      "source": [
        "model.compile(loss = 'categorical_crossentropy',optimizer = 'sgd',metrics = ['accuracy'])"
      ],
      "metadata": {
        "id": "5rpV8nJ3mwkS"
      },
      "execution_count": 118,
      "outputs": []
    },
    {
      "cell_type": "code",
      "execution_count": 119,
      "metadata": {
        "colab": {
          "base_uri": "https://localhost:8080/"
        },
        "id": "aU1MkgCvcQiR",
        "outputId": "89f2fa70-2926-4bbd-d05b-3951bfc9d474"
      },
      "outputs": [
        {
          "output_type": "stream",
          "name": "stdout",
          "text": [
            "Epoch 1/10\n",
            "60/60 [==============================] - 2s 36ms/step - loss: 2.0337 - accuracy: 0.3774 - val_loss: 1.7740 - val_accuracy: 0.6092\n",
            "Epoch 2/10\n",
            "60/60 [==============================] - 1s 21ms/step - loss: 1.5878 - accuracy: 0.6795 - val_loss: 1.3856 - val_accuracy: 0.7356\n",
            "Epoch 3/10\n",
            "60/60 [==============================] - 1s 21ms/step - loss: 1.2643 - accuracy: 0.7588 - val_loss: 1.1157 - val_accuracy: 0.7877\n",
            "Epoch 4/10\n",
            "60/60 [==============================] - 1s 21ms/step - loss: 1.0442 - accuracy: 0.7944 - val_loss: 0.9357 - val_accuracy: 0.8136\n",
            "Epoch 5/10\n",
            "60/60 [==============================] - 1s 21ms/step - loss: 0.8960 - accuracy: 0.8149 - val_loss: 0.8136 - val_accuracy: 0.8305\n",
            "Epoch 6/10\n",
            "60/60 [==============================] - 1s 21ms/step - loss: 0.7933 - accuracy: 0.8283 - val_loss: 0.7271 - val_accuracy: 0.8446\n",
            "Epoch 7/10\n",
            "60/60 [==============================] - 1s 21ms/step - loss: 0.7192 - accuracy: 0.8392 - val_loss: 0.6637 - val_accuracy: 0.8534\n",
            "Epoch 8/10\n",
            "60/60 [==============================] - 1s 21ms/step - loss: 0.6635 - accuracy: 0.8475 - val_loss: 0.6153 - val_accuracy: 0.8608\n",
            "Epoch 9/10\n",
            "60/60 [==============================] - 1s 21ms/step - loss: 0.6202 - accuracy: 0.8543 - val_loss: 0.5772 - val_accuracy: 0.8672\n",
            "Epoch 10/10\n",
            "60/60 [==============================] - 1s 21ms/step - loss: 0.5856 - accuracy: 0.8594 - val_loss: 0.5466 - val_accuracy: 0.8731\n"
          ]
        },
        {
          "output_type": "execute_result",
          "data": {
            "text/plain": [
              "<keras.callbacks.History at 0x7f3f95d94310>"
            ]
          },
          "metadata": {},
          "execution_count": 119
        }
      ],
      "source": [
        "model.fit(x_train,y_train,epochs = 10,batch_size = 1000,verbose=1,validation_data=(x_test, y_test))"
      ]
    },
    {
      "cell_type": "code",
      "source": [
        "model.summary()"
      ],
      "metadata": {
        "colab": {
          "base_uri": "https://localhost:8080/"
        },
        "id": "SpLaOC5RdGFW",
        "outputId": "92be8621-6c95-43c5-90f3-01a91d1f5b8b"
      },
      "execution_count": 120,
      "outputs": [
        {
          "output_type": "stream",
          "name": "stdout",
          "text": [
            "Model: \"sequential_44\"\n",
            "_________________________________________________________________\n",
            " Layer (type)                Output Shape              Param #   \n",
            "=================================================================\n",
            " dense_117 (Dense)           (None, 256)               200960    \n",
            "                                                                 \n",
            " dense_118 (Dense)           (None, 10)                2570      \n",
            "                                                                 \n",
            "=================================================================\n",
            "Total params: 203,530\n",
            "Trainable params: 203,530\n",
            "Non-trainable params: 0\n",
            "_________________________________________________________________\n"
          ]
        }
      ]
    },
    {
      "cell_type": "code",
      "source": [
        "loss = model.evaluate(x_test,y_test,batch_size=1000)"
      ],
      "metadata": {
        "colab": {
          "base_uri": "https://localhost:8080/"
        },
        "id": "HSGVeycyuZH_",
        "outputId": "eb911c93-52c9-424d-8401-814811fe4af9"
      },
      "execution_count": 121,
      "outputs": [
        {
          "output_type": "stream",
          "name": "stdout",
          "text": [
            "10/10 [==============================] - 0s 10ms/step - loss: 0.5466 - accuracy: 0.8731\n"
          ]
        }
      ]
    },
    {
      "cell_type": "markdown",
      "source": [
        "Building the model with Sigmoid activation Function with 1 hidden Layer"
      ],
      "metadata": {
        "id": "B8fM1LZq6Q9q"
      }
    },
    {
      "cell_type": "code",
      "source": [
        "model2 = Sequential()\n",
        "model2.add(Dense(units= 256,activation='sigmoid',input_dim = 784 ))\n",
        "model2.add(Dense(units = 10,activation='softmax' ))\n"
      ],
      "metadata": {
        "id": "a9D4SW6uuZRr"
      },
      "execution_count": 122,
      "outputs": []
    },
    {
      "cell_type": "code",
      "source": [
        "model2.compile(loss = 'categorical_crossentropy',optimizer = 'sgd',metrics = ['accuracy'])"
      ],
      "metadata": {
        "id": "1xjlJDL7uZWh"
      },
      "execution_count": 123,
      "outputs": []
    },
    {
      "cell_type": "code",
      "source": [
        "model2.fit(x_train,y_train,epochs = 10,batch_size = 1000,verbose=1,validation_data=(x_test, y_test))"
      ],
      "metadata": {
        "colab": {
          "base_uri": "https://localhost:8080/"
        },
        "id": "m8rfyU0OuZaP",
        "outputId": "eda008ff-0a48-4fb1-cfcd-dd8a829d0292"
      },
      "execution_count": 124,
      "outputs": [
        {
          "output_type": "stream",
          "name": "stdout",
          "text": [
            "Epoch 1/10\n",
            "60/60 [==============================] - 2s 24ms/step - loss: 2.2690 - accuracy: 0.2124 - val_loss: 2.2044 - val_accuracy: 0.3159\n",
            "Epoch 2/10\n",
            "60/60 [==============================] - 1s 21ms/step - loss: 2.1670 - accuracy: 0.3980 - val_loss: 2.1193 - val_accuracy: 0.4849\n",
            "Epoch 3/10\n",
            "60/60 [==============================] - 1s 21ms/step - loss: 2.0853 - accuracy: 0.5295 - val_loss: 2.0373 - val_accuracy: 0.5928\n",
            "Epoch 4/10\n",
            "60/60 [==============================] - 1s 21ms/step - loss: 2.0064 - accuracy: 0.6028 - val_loss: 1.9582 - val_accuracy: 0.6401\n",
            "Epoch 5/10\n",
            "60/60 [==============================] - 1s 21ms/step - loss: 1.9299 - accuracy: 0.6426 - val_loss: 1.8817 - val_accuracy: 0.6664\n",
            "Epoch 6/10\n",
            "60/60 [==============================] - 1s 21ms/step - loss: 1.8559 - accuracy: 0.6667 - val_loss: 1.8074 - val_accuracy: 0.6970\n",
            "Epoch 7/10\n",
            "60/60 [==============================] - 1s 21ms/step - loss: 1.7840 - accuracy: 0.6906 - val_loss: 1.7356 - val_accuracy: 0.7072\n",
            "Epoch 8/10\n",
            "60/60 [==============================] - 1s 21ms/step - loss: 1.7147 - accuracy: 0.7071 - val_loss: 1.6663 - val_accuracy: 0.7247\n",
            "Epoch 9/10\n",
            "60/60 [==============================] - 1s 21ms/step - loss: 1.6477 - accuracy: 0.7193 - val_loss: 1.5996 - val_accuracy: 0.7397\n",
            "Epoch 10/10\n",
            "60/60 [==============================] - 1s 21ms/step - loss: 1.5834 - accuracy: 0.7325 - val_loss: 1.5359 - val_accuracy: 0.7473\n"
          ]
        },
        {
          "output_type": "execute_result",
          "data": {
            "text/plain": [
              "<keras.callbacks.History at 0x7f3f9a449a10>"
            ]
          },
          "metadata": {},
          "execution_count": 124
        }
      ]
    },
    {
      "cell_type": "code",
      "source": [
        "loss = model2.evaluate(x_test,y_test,batch_size=1000)"
      ],
      "metadata": {
        "colab": {
          "base_uri": "https://localhost:8080/"
        },
        "id": "6IFjsHnQuZev",
        "outputId": "0cbcd8ba-d04d-4ecf-c87b-a6b64997935b"
      },
      "execution_count": 125,
      "outputs": [
        {
          "output_type": "stream",
          "name": "stdout",
          "text": [
            "10/10 [==============================] - 0s 10ms/step - loss: 1.5359 - accuracy: 0.7473\n"
          ]
        }
      ]
    },
    {
      "cell_type": "markdown",
      "source": [
        "Comparing Relu and Sigmoid Activation Function We select Relu activation function which gave better Results."
      ],
      "metadata": {
        "id": "OJvqx_St6szC"
      }
    },
    {
      "cell_type": "markdown",
      "source": [
        "* Another metod we define a function and try various parameters such as Learning rate and lambda"
      ],
      "metadata": {
        "id": "etw7qzjDL9vR"
      }
    },
    {
      "cell_type": "code",
      "source": [
        "def train_test_model(itr,lr,lamda):\n",
        "    \n",
        "    iterations=itr\n",
        "    learning_rate=lr\n",
        "    \n",
        "    \n",
        "    model3=Sequential()\n",
        "    model3.add(Dense(units=256,activation='relu',input_dim=784))\n",
        "    model3.add(Dense(units=10,activation='softmax',kernel_regularizer=regularizers.l2(lamda)))\n",
        "    \n",
        "    sgd=optimizers.SGD(lr=learning_rate)\n",
        "    model3.compile(loss='categorical_crossentropy',optimizer=sgd,metrics=['accuracy'])\n",
        "    \n",
        "    model3.fit(x_train,y_train,epochs=iterations,batch_size=1000,verbose=1)\n",
        "    [loss,score_train]=model3.evaluate(x_train,y_train)\n",
        "    [loss,score_test]=model3.evaluate(x_test,y_test)\n",
        "    \n",
        "    return score_train,score_test"
      ],
      "metadata": {
        "id": "ZKvJ6ohFLQde"
      },
      "execution_count": 126,
      "outputs": []
    },
    {
      "cell_type": "markdown",
      "source": [
        "Different Learning Rate and Lamba has been choosen to find best one "
      ],
      "metadata": {
        "id": "RHoHxnyZ65is"
      }
    },
    {
      "cell_type": "code",
      "source": [
        "lr=[0.0001,0.001,0.01,0.1,0.2,0.3,0.4,0.5]\n",
        "lamda=[0.0001,0.001,0.01,0.01,0.01,0.0001,0.0001,1]\n",
        "for i,j in zip(lr,lamda):\n",
        "    score=train_test_model(10,i,j)\n",
        "    print('epocs:',10,'train_accuracy:',score[0],'test_accuracy:',score[1],'alpha:', i,'Regularization:',j)"
      ],
      "metadata": {
        "colab": {
          "base_uri": "https://localhost:8080/"
        },
        "id": "yB_bqD1RLRfR",
        "outputId": "9cc1db55-3394-420f-8625-f92f34de7f15"
      },
      "execution_count": 127,
      "outputs": [
        {
          "output_type": "stream",
          "name": "stdout",
          "text": [
            "Epoch 1/10\n"
          ]
        },
        {
          "output_type": "stream",
          "name": "stderr",
          "text": [
            "/usr/local/lib/python3.7/dist-packages/keras/optimizer_v2/gradient_descent.py:102: UserWarning: The `lr` argument is deprecated, use `learning_rate` instead.\n",
            "  super(SGD, self).__init__(name, **kwargs)\n"
          ]
        },
        {
          "output_type": "stream",
          "name": "stdout",
          "text": [
            "60/60 [==============================] - 2s 20ms/step - loss: 2.4160 - accuracy: 0.0707\n",
            "Epoch 2/10\n",
            "60/60 [==============================] - 1s 19ms/step - loss: 2.4076 - accuracy: 0.0733\n",
            "Epoch 3/10\n",
            "60/60 [==============================] - 1s 19ms/step - loss: 2.3993 - accuracy: 0.0762\n",
            "Epoch 4/10\n",
            "60/60 [==============================] - 1s 19ms/step - loss: 2.3911 - accuracy: 0.0787\n",
            "Epoch 5/10\n",
            "60/60 [==============================] - 1s 19ms/step - loss: 2.3831 - accuracy: 0.0824\n",
            "Epoch 6/10\n",
            "60/60 [==============================] - 1s 19ms/step - loss: 2.3752 - accuracy: 0.0861\n",
            "Epoch 7/10\n",
            "60/60 [==============================] - 1s 19ms/step - loss: 2.3675 - accuracy: 0.0903\n",
            "Epoch 8/10\n",
            "60/60 [==============================] - 1s 19ms/step - loss: 2.3599 - accuracy: 0.0942\n",
            "Epoch 9/10\n",
            "60/60 [==============================] - 1s 19ms/step - loss: 2.3523 - accuracy: 0.0985\n",
            "Epoch 10/10\n",
            "60/60 [==============================] - 1s 19ms/step - loss: 2.3449 - accuracy: 0.1028\n",
            "1875/1875 [==============================] - 3s 2ms/step - loss: 2.3412 - accuracy: 0.1051\n",
            "313/313 [==============================] - 1s 2ms/step - loss: 2.3343 - accuracy: 0.1107\n",
            "epocs: 10 train_accuracy: 0.10508333146572113 test_accuracy: 0.11069999635219574 alpha: 0.0001 Regularization: 0.0001\n",
            "Epoch 1/10\n",
            "60/60 [==============================] - 1s 19ms/step - loss: 2.3854 - accuracy: 0.0975\n",
            "Epoch 2/10\n",
            "60/60 [==============================] - 1s 19ms/step - loss: 2.3072 - accuracy: 0.1383\n",
            "Epoch 3/10\n",
            "60/60 [==============================] - 1s 19ms/step - loss: 2.2391 - accuracy: 0.1945\n",
            "Epoch 4/10\n",
            "60/60 [==============================] - 1s 19ms/step - loss: 2.1779 - accuracy: 0.2567\n",
            "Epoch 5/10\n",
            "60/60 [==============================] - 1s 19ms/step - loss: 2.1213 - accuracy: 0.3239\n",
            "Epoch 6/10\n",
            "60/60 [==============================] - 1s 19ms/step - loss: 2.0682 - accuracy: 0.3885\n",
            "Epoch 7/10\n",
            "60/60 [==============================] - 1s 19ms/step - loss: 2.0176 - accuracy: 0.4449\n",
            "Epoch 8/10\n",
            "60/60 [==============================] - 1s 19ms/step - loss: 1.9689 - accuracy: 0.4925\n",
            "Epoch 9/10\n",
            "60/60 [==============================] - 1s 19ms/step - loss: 1.9219 - accuracy: 0.5335\n",
            "Epoch 10/10\n",
            "60/60 [==============================] - 1s 19ms/step - loss: 1.8762 - accuracy: 0.5684\n",
            "1875/1875 [==============================] - 3s 2ms/step - loss: 1.8534 - accuracy: 0.5852\n",
            "313/313 [==============================] - 1s 2ms/step - loss: 1.8386 - accuracy: 0.6060\n",
            "epocs: 10 train_accuracy: 0.5851500034332275 test_accuracy: 0.6060000061988831 alpha: 0.001 Regularization: 0.001\n",
            "Epoch 1/10\n",
            "60/60 [==============================] - 1s 19ms/step - loss: 2.2891 - accuracy: 0.3345\n",
            "Epoch 2/10\n",
            "60/60 [==============================] - 1s 19ms/step - loss: 1.8322 - accuracy: 0.6725\n",
            "Epoch 3/10\n",
            "60/60 [==============================] - 1s 19ms/step - loss: 1.5103 - accuracy: 0.7537\n",
            "Epoch 4/10\n",
            "60/60 [==============================] - 1s 19ms/step - loss: 1.2892 - accuracy: 0.7907\n",
            "Epoch 5/10\n",
            "60/60 [==============================] - 1s 19ms/step - loss: 1.1405 - accuracy: 0.8123\n",
            "Epoch 6/10\n",
            "60/60 [==============================] - 1s 19ms/step - loss: 1.0379 - accuracy: 0.8267\n",
            "Epoch 7/10\n",
            "60/60 [==============================] - 1s 19ms/step - loss: 0.9641 - accuracy: 0.8384\n",
            "Epoch 8/10\n",
            "60/60 [==============================] - 1s 19ms/step - loss: 0.9088 - accuracy: 0.8458\n",
            "Epoch 9/10\n",
            "60/60 [==============================] - 1s 19ms/step - loss: 0.8659 - accuracy: 0.8523\n",
            "Epoch 10/10\n",
            "60/60 [==============================] - 1s 19ms/step - loss: 0.8316 - accuracy: 0.8577\n",
            "1875/1875 [==============================] - 3s 2ms/step - loss: 0.8163 - accuracy: 0.8603\n",
            "313/313 [==============================] - 1s 2ms/step - loss: 0.7951 - accuracy: 0.8662\n",
            "epocs: 10 train_accuracy: 0.8602666854858398 test_accuracy: 0.8661999702453613 alpha: 0.01 Regularization: 0.01\n",
            "Epoch 1/10\n",
            "60/60 [==============================] - 1s 19ms/step - loss: 1.2506 - accuracy: 0.7610\n",
            "Epoch 2/10\n",
            "60/60 [==============================] - 1s 19ms/step - loss: 0.7210 - accuracy: 0.8760\n",
            "Epoch 3/10\n",
            "60/60 [==============================] - 1s 19ms/step - loss: 0.6294 - accuracy: 0.8900\n",
            "Epoch 4/10\n",
            "60/60 [==============================] - 1s 19ms/step - loss: 0.5808 - accuracy: 0.8977\n",
            "Epoch 5/10\n",
            "60/60 [==============================] - 1s 19ms/step - loss: 0.5466 - accuracy: 0.9025\n",
            "Epoch 6/10\n",
            "60/60 [==============================] - 1s 19ms/step - loss: 0.5209 - accuracy: 0.9061\n",
            "Epoch 7/10\n",
            "60/60 [==============================] - 1s 19ms/step - loss: 0.5005 - accuracy: 0.9087\n",
            "Epoch 8/10\n",
            "60/60 [==============================] - 1s 19ms/step - loss: 0.4833 - accuracy: 0.9104\n",
            "Epoch 9/10\n",
            "60/60 [==============================] - 1s 19ms/step - loss: 0.4690 - accuracy: 0.9124\n",
            "Epoch 10/10\n",
            "60/60 [==============================] - 1s 19ms/step - loss: 0.4566 - accuracy: 0.9143\n",
            "1875/1875 [==============================] - 3s 2ms/step - loss: 0.4503 - accuracy: 0.9152\n",
            "313/313 [==============================] - 1s 2ms/step - loss: 0.4371 - accuracy: 0.9180\n",
            "epocs: 10 train_accuracy: 0.915233314037323 test_accuracy: 0.9179999828338623 alpha: 0.1 Regularization: 0.01\n",
            "Epoch 1/10\n",
            "60/60 [==============================] - 1s 20ms/step - loss: 1.0035 - accuracy: 0.8077\n",
            "Epoch 2/10\n",
            "60/60 [==============================] - 1s 19ms/step - loss: 0.6122 - accuracy: 0.8918\n",
            "Epoch 3/10\n",
            "60/60 [==============================] - 1s 19ms/step - loss: 0.5412 - accuracy: 0.9010\n",
            "Epoch 4/10\n",
            "60/60 [==============================] - 1s 19ms/step - loss: 0.4962 - accuracy: 0.9075\n",
            "Epoch 5/10\n",
            "60/60 [==============================] - 1s 19ms/step - loss: 0.4661 - accuracy: 0.9115\n",
            "Epoch 6/10\n",
            "60/60 [==============================] - 1s 20ms/step - loss: 0.4446 - accuracy: 0.9141\n",
            "Epoch 7/10\n",
            "60/60 [==============================] - 1s 19ms/step - loss: 0.4261 - accuracy: 0.9175\n",
            "Epoch 8/10\n",
            "60/60 [==============================] - 1s 20ms/step - loss: 0.4125 - accuracy: 0.9193\n",
            "Epoch 9/10\n",
            "60/60 [==============================] - 1s 19ms/step - loss: 0.4008 - accuracy: 0.9215\n",
            "Epoch 10/10\n",
            "60/60 [==============================] - 1s 19ms/step - loss: 0.3909 - accuracy: 0.9235\n",
            "1875/1875 [==============================] - 3s 2ms/step - loss: 0.3824 - accuracy: 0.9237\n",
            "313/313 [==============================] - 1s 2ms/step - loss: 0.3723 - accuracy: 0.9275\n",
            "epocs: 10 train_accuracy: 0.9236666560173035 test_accuracy: 0.9275000095367432 alpha: 0.2 Regularization: 0.01\n",
            "Epoch 1/10\n",
            "60/60 [==============================] - 2s 20ms/step - loss: 0.6938 - accuracy: 0.8192\n",
            "Epoch 2/10\n",
            "60/60 [==============================] - 1s 19ms/step - loss: 0.3443 - accuracy: 0.9035\n",
            "Epoch 3/10\n",
            "60/60 [==============================] - 1s 19ms/step - loss: 0.2905 - accuracy: 0.9187\n",
            "Epoch 4/10\n",
            "60/60 [==============================] - 1s 19ms/step - loss: 0.2590 - accuracy: 0.9282\n",
            "Epoch 5/10\n",
            "60/60 [==============================] - 1s 19ms/step - loss: 0.2342 - accuracy: 0.9360\n",
            "Epoch 6/10\n",
            "60/60 [==============================] - 1s 19ms/step - loss: 0.2158 - accuracy: 0.9408\n",
            "Epoch 7/10\n",
            "60/60 [==============================] - 1s 19ms/step - loss: 0.2004 - accuracy: 0.9450\n",
            "Epoch 8/10\n",
            "60/60 [==============================] - 1s 19ms/step - loss: 0.1870 - accuracy: 0.9487\n",
            "Epoch 9/10\n",
            "60/60 [==============================] - 1s 19ms/step - loss: 0.1758 - accuracy: 0.9520\n",
            "Epoch 10/10\n",
            "60/60 [==============================] - 1s 19ms/step - loss: 0.1658 - accuracy: 0.9547\n",
            "1875/1875 [==============================] - 3s 2ms/step - loss: 0.1586 - accuracy: 0.9574\n",
            "313/313 [==============================] - 1s 2ms/step - loss: 0.1636 - accuracy: 0.9557\n",
            "epocs: 10 train_accuracy: 0.9573666453361511 test_accuracy: 0.9556999802589417 alpha: 0.3 Regularization: 0.0001\n",
            "Epoch 1/10\n",
            "60/60 [==============================] - 1s 19ms/step - loss: 0.6642 - accuracy: 0.8061\n",
            "Epoch 2/10\n",
            "60/60 [==============================] - 1s 19ms/step - loss: 0.3173 - accuracy: 0.9104\n",
            "Epoch 3/10\n",
            "60/60 [==============================] - 1s 19ms/step - loss: 0.2634 - accuracy: 0.9262\n",
            "Epoch 4/10\n",
            "60/60 [==============================] - 1s 19ms/step - loss: 0.2283 - accuracy: 0.9370\n",
            "Epoch 5/10\n",
            "60/60 [==============================] - 1s 19ms/step - loss: 0.2042 - accuracy: 0.9449\n",
            "Epoch 6/10\n",
            "60/60 [==============================] - 1s 19ms/step - loss: 0.1853 - accuracy: 0.9495\n",
            "Epoch 7/10\n",
            "60/60 [==============================] - 1s 19ms/step - loss: 0.1709 - accuracy: 0.9536\n",
            "Epoch 8/10\n",
            "60/60 [==============================] - 1s 19ms/step - loss: 0.1586 - accuracy: 0.9575\n",
            "Epoch 9/10\n",
            "60/60 [==============================] - 1s 19ms/step - loss: 0.1485 - accuracy: 0.9603\n",
            "Epoch 10/10\n",
            "60/60 [==============================] - 1s 19ms/step - loss: 0.1395 - accuracy: 0.9631\n",
            "1875/1875 [==============================] - 3s 2ms/step - loss: 0.1322 - accuracy: 0.9657\n",
            "313/313 [==============================] - 1s 2ms/step - loss: 0.1370 - accuracy: 0.9627\n",
            "epocs: 10 train_accuracy: 0.9656500220298767 test_accuracy: 0.9627000093460083 alpha: 0.4 Regularization: 0.0001\n",
            "Epoch 1/10\n",
            "60/60 [==============================] - 1s 19ms/step - loss: 2.5644 - accuracy: 0.3485\n",
            "Epoch 2/10\n",
            "60/60 [==============================] - 1s 19ms/step - loss: 2.2063 - accuracy: 0.4060\n",
            "Epoch 3/10\n",
            "60/60 [==============================] - 1s 19ms/step - loss: 2.2104 - accuracy: 0.4468\n",
            "Epoch 4/10\n",
            "60/60 [==============================] - 1s 19ms/step - loss: 2.1967 - accuracy: 0.4759\n",
            "Epoch 5/10\n",
            "60/60 [==============================] - 1s 19ms/step - loss: 2.2004 - accuracy: 0.4863\n",
            "Epoch 6/10\n",
            "60/60 [==============================] - 1s 19ms/step - loss: 2.2286 - accuracy: 0.4870\n",
            "Epoch 7/10\n",
            "60/60 [==============================] - 1s 20ms/step - loss: 2.2256 - accuracy: 0.5094\n",
            "Epoch 8/10\n",
            "60/60 [==============================] - 1s 19ms/step - loss: 2.2569 - accuracy: 0.5006\n",
            "Epoch 9/10\n",
            "60/60 [==============================] - 1s 19ms/step - loss: 2.2593 - accuracy: 0.5065\n",
            "Epoch 10/10\n",
            "60/60 [==============================] - 1s 19ms/step - loss: 2.2722 - accuracy: 0.5080\n",
            "1875/1875 [==============================] - 3s 2ms/step - loss: 2.3589 - accuracy: 0.4987\n",
            "313/313 [==============================] - 1s 2ms/step - loss: 2.3413 - accuracy: 0.5132\n",
            "epocs: 10 train_accuracy: 0.49869999289512634 test_accuracy: 0.5131999850273132 alpha: 0.5 Regularization: 1\n"
          ]
        }
      ]
    },
    {
      "cell_type": "markdown",
      "source": [
        "As we can see that Alpha = 0.4 and Regularization Parameter = 0.0001 gave better results"
      ],
      "metadata": {
        "id": "Ee16jPgc7D7O"
      }
    },
    {
      "cell_type": "markdown",
      "source": [
        "We build the model with obtained parameters "
      ],
      "metadata": {
        "id": "k2tcAK0q7bss"
      }
    },
    {
      "cell_type": "code",
      "source": [
        "model4=Sequential()\n",
        "model4.add(Dense(units=256,activation='relu',input_dim=784))\n",
        "model4.add(Dense(units=10,activation='softmax',kernel_regularizer=regularizers.l2(0.0001)))"
      ],
      "metadata": {
        "id": "cWb-2OMvhrTv"
      },
      "execution_count": 128,
      "outputs": []
    },
    {
      "cell_type": "code",
      "source": [
        "sgd=optimizers.SGD(lr=0.4)\n",
        "model4.compile(loss='categorical_crossentropy',optimizer=sgd,metrics=['accuracy'])\n",
        "history = model4.fit(x_train,y_train,epochs=10,batch_size=1000,verbose=1)"
      ],
      "metadata": {
        "colab": {
          "base_uri": "https://localhost:8080/"
        },
        "id": "nC_XxktUhrbs",
        "outputId": "591e2152-3978-42d1-9b79-45131ac08955"
      },
      "execution_count": 129,
      "outputs": [
        {
          "output_type": "stream",
          "name": "stdout",
          "text": [
            "Epoch 1/10\n"
          ]
        },
        {
          "output_type": "stream",
          "name": "stderr",
          "text": [
            "/usr/local/lib/python3.7/dist-packages/keras/optimizer_v2/gradient_descent.py:102: UserWarning: The `lr` argument is deprecated, use `learning_rate` instead.\n",
            "  super(SGD, self).__init__(name, **kwargs)\n"
          ]
        },
        {
          "output_type": "stream",
          "name": "stdout",
          "text": [
            "60/60 [==============================] - 2s 20ms/step - loss: 0.6553 - accuracy: 0.8090\n",
            "Epoch 2/10\n",
            "60/60 [==============================] - 1s 19ms/step - loss: 0.3190 - accuracy: 0.9097\n",
            "Epoch 3/10\n",
            "60/60 [==============================] - 1s 19ms/step - loss: 0.2658 - accuracy: 0.9261\n",
            "Epoch 4/10\n",
            "60/60 [==============================] - 1s 19ms/step - loss: 0.2320 - accuracy: 0.9358\n",
            "Epoch 5/10\n",
            "60/60 [==============================] - 1s 19ms/step - loss: 0.2072 - accuracy: 0.9435\n",
            "Epoch 6/10\n",
            "60/60 [==============================] - 1s 19ms/step - loss: 0.1884 - accuracy: 0.9493\n",
            "Epoch 7/10\n",
            "60/60 [==============================] - 1s 19ms/step - loss: 0.1731 - accuracy: 0.9536\n",
            "Epoch 8/10\n",
            "60/60 [==============================] - 1s 19ms/step - loss: 0.1605 - accuracy: 0.9572\n",
            "Epoch 9/10\n",
            "60/60 [==============================] - 1s 19ms/step - loss: 0.1498 - accuracy: 0.9600\n",
            "Epoch 10/10\n",
            "60/60 [==============================] - 1s 19ms/step - loss: 0.1404 - accuracy: 0.9631\n"
          ]
        }
      ]
    },
    {
      "cell_type": "code",
      "source": [
        "model4.summary()"
      ],
      "metadata": {
        "colab": {
          "base_uri": "https://localhost:8080/"
        },
        "id": "B6vWAWU5hrhL",
        "outputId": "36c195e7-a9bf-42ed-9619-cb37f68c67f6"
      },
      "execution_count": 130,
      "outputs": [
        {
          "output_type": "stream",
          "name": "stdout",
          "text": [
            "Model: \"sequential_54\"\n",
            "_________________________________________________________________\n",
            " Layer (type)                Output Shape              Param #   \n",
            "=================================================================\n",
            " dense_137 (Dense)           (None, 256)               200960    \n",
            "                                                                 \n",
            " dense_138 (Dense)           (None, 10)                2570      \n",
            "                                                                 \n",
            "=================================================================\n",
            "Total params: 203,530\n",
            "Trainable params: 203,530\n",
            "Non-trainable params: 0\n",
            "_________________________________________________________________\n"
          ]
        }
      ]
    },
    {
      "cell_type": "code",
      "source": [
        "from keras.utils.vis_utils import plot_model"
      ],
      "metadata": {
        "id": "t_-16_Guhrn1"
      },
      "execution_count": 131,
      "outputs": []
    },
    {
      "cell_type": "code",
      "source": [
        "plot_model(model4, to_file='model_plot.png', show_shapes=True, show_layer_names=True)"
      ],
      "metadata": {
        "colab": {
          "base_uri": "https://localhost:8080/",
          "height": 312
        },
        "id": "w4JQjIT9j9az",
        "outputId": "46c1fb40-f7f5-447d-ce6c-fd32576cbb69"
      },
      "execution_count": 132,
      "outputs": [
        {
          "output_type": "execute_result",
          "data": {
            "text/plain": [
              "<IPython.core.display.Image object>"
            ],
            "image/png": "[encoded data removed]"
          },
          "metadata": {},
          "execution_count": 132
        }
      ]
    },
    {
      "cell_type": "code",
      "source": [
        "history.history.keys()"
      ],
      "metadata": {
        "colab": {
          "base_uri": "https://localhost:8080/"
        },
        "id": "p-MU5KS-mcu6",
        "outputId": "b11af137-864d-4589-8117-f368dd062e67"
      },
      "execution_count": 133,
      "outputs": [
        {
          "output_type": "execute_result",
          "data": {
            "text/plain": [
              "dict_keys(['loss', 'accuracy'])"
            ]
          },
          "metadata": {},
          "execution_count": 133
        }
      ]
    },
    {
      "cell_type": "code",
      "source": [
        "plt.plot(history.history['accuracy'])\n",
        "plt.title('model accuracy')\n",
        "plt.ylabel('accuracy')\n",
        "plt.xlabel('epochs')\n",
        "plt.legend(['train'],loc='upper left')\n",
        "plt.show()"
      ],
      "metadata": {
        "colab": {
          "base_uri": "https://localhost:8080/",
          "height": 295
        },
        "id": "48NEWaCbmc8M",
        "outputId": "4f43adf1-28d6-4bbc-9d29-806fbbf9e78c"
      },
      "execution_count": 134,
      "outputs": [
        {
          "output_type": "display_data",
          "data": {
            "text/plain": [
              "<Figure size 432x288 with 1 Axes>"
            ],
            "image/png": "[encoded data removed]"
          },
          "metadata": {
            "needs_background": "light"
          }
        }
      ]
    },
    {
      "cell_type": "markdown",
      "source": [
        "Plot showing Loss vs epochs"
      ],
      "metadata": {
        "id": "9iLIZ2Bk7vwH"
      }
    },
    {
      "cell_type": "code",
      "source": [
        "plt.plot(history.history['loss'])\n",
        "plt.title('model loss')\n",
        "plt.ylabel('loss')\n",
        "plt.xlabel('epochs')\n",
        "plt.legend(['train'],loc='upper left')\n",
        "plt.show()"
      ],
      "metadata": {
        "colab": {
          "base_uri": "https://localhost:8080/",
          "height": 295
        },
        "id": "m4hmAFHWmdIC",
        "outputId": "a34eac8e-a088-4795-d332-a1360b4355ab"
      },
      "execution_count": 135,
      "outputs": [
        {
          "output_type": "display_data",
          "data": {
            "text/plain": [
              "<Figure size 432x288 with 1 Axes>"
            ],
            "image/png": "[encoded data removed]"
          },
          "metadata": {
            "needs_background": "light"
          }
        }
      ]
    },
    {
      "cell_type": "code",
      "source": [
        "y_pred = model4.predict(x_test, verbose=0)\n",
        "y_pred"
      ],
      "metadata": {
        "colab": {
          "base_uri": "https://localhost:8080/"
        },
        "id": "HiMgZQF4ucpP",
        "outputId": "d1a1e9a2-7bf4-4a9e-be77-3c1037a89e72"
      },
      "execution_count": 136,
      "outputs": [
        {
          "output_type": "execute_result",
          "data": {
            "text/plain": [
              "array([[7.8335084e-05, 7.6674576e-07, 1.2137069e-03, ..., 9.9519122e-01,\n",
              "        5.0757699e-05, 2.1599162e-04],\n",
              "       [1.8278103e-04, 3.2204243e-05, 9.8802918e-01, ..., 8.2820029e-10,\n",
              "        5.6553876e-04, 2.5184468e-09],\n",
              "       [2.3776236e-05, 9.8543948e-01, 3.6627327e-03, ..., 4.7663529e-03,\n",
              "        1.8256590e-03, 2.1070577e-04],\n",
              "       ...,\n",
              "       [8.6059828e-08, 6.1349411e-08, 1.9922807e-06, ..., 4.2672298e-05,\n",
              "        9.8900485e-04, 1.4731635e-03],\n",
              "       [9.7297889e-05, 9.9635072e-05, 3.5908772e-05, ..., 4.2574029e-06,\n",
              "        1.0450433e-02, 5.3204089e-06],\n",
              "       [4.0301344e-05, 1.0474528e-08, 8.4683226e-05, ..., 5.5214650e-10,\n",
              "        3.3725419e-07, 6.1182071e-08]], dtype=float32)"
            ]
          },
          "metadata": {},
          "execution_count": 136
        }
      ]
    },
    {
      "cell_type": "code",
      "source": [
        "y_test"
      ],
      "metadata": {
        "colab": {
          "base_uri": "https://localhost:8080/"
        },
        "id": "1bEb9gQJwizS",
        "outputId": "0de11fdb-dbe0-4033-df3b-40a2e4ee7f16"
      },
      "execution_count": 137,
      "outputs": [
        {
          "output_type": "execute_result",
          "data": {
            "text/plain": [
              "array([[0., 0., 0., ..., 1., 0., 0.],\n",
              "       [0., 0., 1., ..., 0., 0., 0.],\n",
              "       [0., 1., 0., ..., 0., 0., 0.],\n",
              "       ...,\n",
              "       [0., 0., 0., ..., 0., 0., 0.],\n",
              "       [0., 0., 0., ..., 0., 0., 0.],\n",
              "       [0., 0., 0., ..., 0., 0., 0.]], dtype=float32)"
            ]
          },
          "metadata": {},
          "execution_count": 137
        }
      ]
    },
    {
      "cell_type": "code",
      "source": [
        "from sklearn.metrics import classification_report"
      ],
      "metadata": {
        "id": "_UU4asHKuc4l"
      },
      "execution_count": 138,
      "outputs": []
    },
    {
      "cell_type": "code",
      "source": [
        "from sklearn.metrics import confusion_matrix"
      ],
      "metadata": {
        "id": "XTNIcqBY1-VZ"
      },
      "execution_count": 139,
      "outputs": []
    },
    {
      "cell_type": "code",
      "source": [
        "y_test_arg=np.argmax(y_test,axis=1)\n",
        "Y_pred = np.argmax(y_pred,axis=1)\n",
        "print(confusion_matrix(y_test_arg, Y_pred))"
      ],
      "metadata": {
        "colab": {
          "base_uri": "https://localhost:8080/"
        },
        "id": "ktNdCHMe1jfq",
        "outputId": "56081040-0866-4444-aa7a-46a45f6c8c5d"
      },
      "execution_count": 140,
      "outputs": [
        {
          "output_type": "stream",
          "name": "stdout",
          "text": [
            "[[ 969    0    1    1    1    2    4    1    1    0]\n",
            " [   0 1116    3    2    0    1    4    2    7    0]\n",
            " [   7    2  994    5    5    1    3    7    7    1]\n",
            " [   1    1    6  975    0    6    0    8   11    2]\n",
            " [   1    0    5    1  948    0    7    2    3   15]\n",
            " [   9    1    1   14    2  842    9    1    8    5]\n",
            " [   9    3    1    1    6    8  924    1    5    0]\n",
            " [   1   11   16    4    3    1    0  983    1    8]\n",
            " [   4    2    2   11    4    5    9    6  928    3]\n",
            " [   9    7    1   12   23    4    1   10    8  934]]\n"
          ]
        }
      ]
    },
    {
      "cell_type": "code",
      "source": [
        "print(classification_report(y_test_arg, Y_pred))"
      ],
      "metadata": {
        "colab": {
          "base_uri": "https://localhost:8080/"
        },
        "id": "DObGfQRu1j0I",
        "outputId": "86b882db-c8d5-4292-eee8-b53bb6d31c7e"
      },
      "execution_count": 141,
      "outputs": [
        {
          "output_type": "stream",
          "name": "stdout",
          "text": [
            "              precision    recall  f1-score   support\n",
            "\n",
            "           0       0.96      0.99      0.97       980\n",
            "           1       0.98      0.98      0.98      1135\n",
            "           2       0.97      0.96      0.96      1032\n",
            "           3       0.95      0.97      0.96      1010\n",
            "           4       0.96      0.97      0.96       982\n",
            "           5       0.97      0.94      0.96       892\n",
            "           6       0.96      0.96      0.96       958\n",
            "           7       0.96      0.96      0.96      1028\n",
            "           8       0.95      0.95      0.95       974\n",
            "           9       0.96      0.93      0.94      1009\n",
            "\n",
            "    accuracy                           0.96     10000\n",
            "   macro avg       0.96      0.96      0.96     10000\n",
            "weighted avg       0.96      0.96      0.96     10000\n",
            "\n"
          ]
        }
      ]
    },
    {
      "cell_type": "markdown",
      "source": [
        "F1 Score of the Model"
      ],
      "metadata": {
        "id": "fNS2UM4K7rID"
      }
    },
    {
      "cell_type": "code",
      "source": [
        "f1 = f1_score(y_test_arg, Y_pred,average='micro')\n",
        "print('F1 Score is: ',f1)"
      ],
      "metadata": {
        "colab": {
          "base_uri": "https://localhost:8080/"
        },
        "id": "EaSfkJE61j4q",
        "outputId": "b74b7380-ee6a-4ad7-ec83-6e3eeceebeff"
      },
      "execution_count": 142,
      "outputs": [
        {
          "output_type": "stream",
          "name": "stdout",
          "text": [
            "F1 Score is:  0.9613\n"
          ]
        }
      ]
    },
    {
      "cell_type": "code",
      "source": [
        ""
      ],
      "metadata": {
        "id": "3AoXbHtk1j9N"
      },
      "execution_count": 142,
      "outputs": []
    },
    {
      "cell_type": "code",
      "source": [
        ""
      ],
      "metadata": {
        "id": "yTAC8Mp51kDg"
      },
      "execution_count": 142,
      "outputs": []
    }
  ],
  "metadata": {
    "colab": {
      "name": "Untitled9_(1) (1).ipynb",
      "provenance": []
    },
    "kernelspec": {
      "display_name": "Python 3",
      "language": "python",
      "name": "python3"
    },
    "language_info": {
      "codemirror_mode": {
        "name": "ipython",
        "version": 3
      },
      "file_extension": ".py",
      "mimetype": "text/x-python",
      "name": "python",
      "nbconvert_exporter": "python",
      "pygments_lexer": "ipython3",
      "version": "3.8.3"
    }
  },
  "nbformat": 4,
  "nbformat_minor": 0
}